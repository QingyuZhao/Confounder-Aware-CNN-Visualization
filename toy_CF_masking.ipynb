{
 "cells": [
  {
   "cell_type": "code",
   "execution_count": 1,
   "metadata": {},
   "outputs": [
    {
     "name": "stderr",
     "output_type": "stream",
     "text": [
      "/Users/wuzhejun/anaconda3/lib/python3.6/site-packages/h5py/__init__.py:36: FutureWarning: Conversion of the second argument of issubdtype from `float` to `np.floating` is deprecated. In future, it will be treated as `np.float64 == np.dtype(float).type`.\n",
      "  from ._conv import register_converters as _register_converters\n",
      "Using TensorFlow backend.\n",
      "/Users/wuzhejun/anaconda3/lib/python3.6/site-packages/statsmodels/compat/pandas.py:56: FutureWarning: The pandas.core.datetools module is deprecated and will be removed in a future version. Please use the pandas.tseries module instead.\n",
      "  from pandas.core import datetools\n"
     ]
    }
   ],
   "source": [
    "from __future__ import absolute_import\n",
    "from __future__ import division\n",
    "from __future__ import print_function\n",
    "\n",
    "from keras.models import Sequential, Model\n",
    "from keras.layers import Activation, Dense, Flatten, Input, Layer, MaxPooling2D, Conv2D, Reshape\n",
    "from keras.losses import binary_crossentropy\n",
    "from keras import backend as K\n",
    "from keras.optimizers import Adam\n",
    "\n",
    "import tensorflow as tf\n",
    "import numpy as np\n",
    "import scipy.stats as st\n",
    "from visualization_functions import *\n",
    "import itertools\n",
    "import statsmodels.api as sm\n",
    "from sklearn.linear_model import LinearRegression\n",
    "\n",
    "import sys\n",
    "import argparse\n",
    "import os\n",
    "import glob \n",
    "\n",
    "from vis.visualization import visualize_saliency, visualize_activation\n",
    "from vis.utils import utils\n",
    "from keras import activations\n",
    "\n",
    "# visualize saliency\n",
    "import matplotlib\n",
    "import matplotlib.pyplot as plt"
   ]
  },
  {
   "cell_type": "markdown",
   "metadata": {},
   "source": [
    "# Simulating Synthetic Images\n",
    "The training images of two groups are simulated. Each image contains 4 Gaussian distribution density functions. Let the 4 standard deviations be\n",
    "\n",
    "|  $\\sigma_1$ | $\\sigma_2$  |\n",
    "\n",
    "|  $\\sigma_3$ | $\\sigma_4$  |\n",
    "\n",
    "The 4 Gaussians are constructed such that\n",
    "\n",
    "1. two diagonal Gaussians $\\sigma_1,\\sigma_4$ are linked to a factor of interest $mf$ (e.g. true effect between two classes)\n",
    "2. two off-diagonal Gaussians $\\sigma_2,\\sigma_3$ are linked to two different confounding factors $cf_1, cf_2$."
   ]
  },
  {
   "cell_type": "code",
   "execution_count": 2,
   "metadata": {},
   "outputs": [
    {
     "data": {
      "image/png": "[encoded data removed]",
      "text/plain": [
       "<matplotlib.figure.Figure at 0x1c2a702c18>"
      ]
     },
     "metadata": {},
     "output_type": "display_data"
    }
   ],
   "source": [
    "## Simulate Data\n",
    "np.random.seed(0)\n",
    "\n",
    "N = 512 # number of subjects in a group\n",
    "labels = np.zeros((N*2,))\n",
    "labels[N:] = 1\n",
    "\n",
    "sig_base = 4\n",
    "sig_offset = 2\n",
    "\n",
    "# 2 confounding effects between 2 groups\n",
    "cf1 = np.zeros((N*2,))\n",
    "cf2 = np.zeros((N*2,))\n",
    "cf1[:N] = np.random.normal(sig_base,1,size=N)\n",
    "cf1[N:] = np.random.normal(sig_base+sig_offset,1,size=N)\n",
    "cf2[:N] = np.random.normal(sig_base,1,size=N)\n",
    "cf2[N:] = np.random.normal(sig_base+sig_offset,1,size=N)\n",
    "\n",
    "# 2 major effects between 2 groups\n",
    "mf = np.zeros((N*2,))\n",
    "mf[:N] = np.random.normal(sig_base,0.5,size=N)\n",
    "mf[N:] = np.random.normal(sig_base+sig_offset,0.5,size=N)\n",
    "\n",
    "# simulate images\n",
    "x = np.zeros((N*2,32,32,1))\n",
    "\n",
    "for i in range(N*2):\n",
    "    x[i,:16,:16,0] = gkern(kernlen=16, nsig=mf[i])\n",
    "    x[i,16:,:16,0] = gkern(kernlen=16, nsig=cf1[i])\n",
    "    x[i,:16,16:,0] = gkern(kernlen=16, nsig=cf2[i])\n",
    "    x[i,16:,16:,0] = gkern(kernlen=16, nsig=mf[i])\n",
    "\n",
    "plt.imshow(x[1,:,:,0],cmap='gray')\n",
    "plt.colorbar()\n",
    "plt.title(\"a synthetic training image\");"
   ]
  },
  {
   "cell_type": "markdown",
   "metadata": {},
   "source": [
    "# Training CNN\n",
    "To differentiate the two classes, we train a simple 2D CNN. The model is comprised of an encoder and a predictor. 32 intermediate features are extracted, 8 from each block."
   ]
  },
  {
   "cell_type": "code",
   "execution_count": 3,
   "metadata": {},
   "outputs": [
    {
     "name": "stdout",
     "output_type": "stream",
     "text": [
      "_________________________________________________________________\n",
      "Layer (type)                 Output Shape              Param #   \n",
      "=================================================================\n",
      "input_image (InputLayer)     (None, 32, 32, 1)         0         \n",
      "_________________________________________________________________\n",
      "conv2d_1 (Conv2D)            (None, 30, 30, 2)         20        \n",
      "_________________________________________________________________\n",
      "max_pooling2d_1 (MaxPooling2 (None, 15, 15, 2)         0         \n",
      "_________________________________________________________________\n",
      "conv2d_2 (Conv2D)            (None, 13, 13, 4)         76        \n",
      "_________________________________________________________________\n",
      "max_pooling2d_2 (MaxPooling2 (None, 6, 6, 4)           0         \n",
      "_________________________________________________________________\n",
      "conv2d_3 (Conv2D)            (None, 4, 4, 8)           296       \n",
      "_________________________________________________________________\n",
      "max_pooling2d_3 (MaxPooling2 (None, 2, 2, 8)           0         \n",
      "_________________________________________________________________\n",
      "flatten_1 (Flatten)          (None, 32)                0         \n",
      "_________________________________________________________________\n",
      "model_2 (Model)              (None, 1)                 545       \n",
      "_________________________________________________________________\n",
      "r_mean (Activation)          (None, 1)                 0         \n",
      "=================================================================\n",
      "Total params: 937\n",
      "Trainable params: 937\n",
      "Non-trainable params: 0\n",
      "_________________________________________________________________\n"
     ]
    },
    {
     "data": {
      "text/plain": [
       "<keras.callbacks.History at 0x1c2b207d68>"
      ]
     },
     "execution_count": 3,
     "metadata": {},
     "output_type": "execute_result"
    }
   ],
   "source": [
    "## contstruct and train a naive classifier\n",
    "optimizer = Adam(0.0002)\n",
    "\n",
    "# Build a naive feature encoder\n",
    "input_feature_enc = Input(shape=(32,32,1), name='input_image')\n",
    "feature_dense_enc = Conv2D(2, activation='tanh', kernel_size=(3,3),padding='valid')(input_feature_enc)\n",
    "feature_dense_enc = MaxPooling2D(pool_size=(2,2))(feature_dense_enc)\n",
    "feature_dense_enc = Conv2D(4, activation='tanh', kernel_size=(3,3),padding='valid')(feature_dense_enc)\n",
    "feature_dense_enc = MaxPooling2D(pool_size=(2,2))(feature_dense_enc)\n",
    "feature_dense_enc = Conv2D(8, activation='tanh', kernel_size=(3,3),padding='valid')(feature_dense_enc)\n",
    "feature_dense_enc = MaxPooling2D(pool_size=(2,2))(feature_dense_enc)\n",
    "feature_dense_enc = Flatten()(feature_dense_enc)\n",
    "encoder = Model(input_feature_enc, feature_dense_enc)\n",
    "\n",
    "# Build a naive classifier\n",
    "input_feature_clf = Input(shape=(32,), name='input_feature_dense')\n",
    "feature_clf = Dense(16, activation='tanh')(input_feature_clf)\n",
    "prediction_score = Dense(1, name='prediction_score')(feature_clf)     \n",
    "classifier = Model(input_feature_clf, prediction_score)\n",
    "\n",
    "# integrate two native models\n",
    "prediction_score_workflow = classifier(feature_dense_enc)\n",
    "label_workflow = Activation('sigmoid', name='r_mean')(prediction_score_workflow)\n",
    "workflow = Model(input_feature_enc, label_workflow)\n",
    "workflow.compile(loss='binary_crossentropy', optimizer=optimizer,metrics=['accuracy'])\n",
    "workflow.summary()\n",
    "workflow.fit(x,labels,\n",
    "             epochs=50,\n",
    "             batch_size=32,\n",
    "             verbose=0)\n",
    "\n"
   ]
  },
  {
   "cell_type": "markdown",
   "metadata": {},
   "source": [
    "# Saliency Visualization\n",
    "We first visualize the heat map using the vanilla keras-vis model. We can see both true effects and confounded effects are identified to be critical for classification."
   ]
  },
  {
   "cell_type": "code",
   "execution_count": 4,
   "metadata": {},
   "outputs": [
    {
     "data": {
      "image/png": "[encoded data removed]",
      "text/plain": [
       "<matplotlib.figure.Figure at 0x1c2a6a9f98>"
      ]
     },
     "metadata": {},
     "output_type": "display_data"
    }
   ],
   "source": [
    "# visualize saliency\n",
    "\n",
    "K_subject = 10 # visualize the average heatmap from first 10 subjects\n",
    "saliency = np.zeros((32,32))\n",
    "for subidx in itertools.chain(range(K_subject),range(N,N+K_subject)):\n",
    "    layer_idx = utils.find_layer_idx(workflow, 'r_mean')\n",
    "\n",
    "    # Swap softmax with linear\n",
    "    workflow.layers[layer_idx].activation = activations.linear\n",
    "    workflow_updated = utils.apply_modifications(workflow)\n",
    "\n",
    "    grads = visualize_saliency(workflow_updated, layer_idx, filter_indices=0, seed_input=x[subidx])\n",
    "    saliency = saliency + convert_jet_to_grey(grads/255.0,1)\n",
    "    \n",
    "plt.imshow(saliency/K_subject/2)\n",
    "plt.title(\"a naive heatmap without controlling for confounders\");"
   ]
  },
  {
   "cell_type": "markdown",
   "metadata": {},
   "source": [
    "# Univariate Testing for Confounding Effects\n",
    "Now we perform a GLM analysis for each of the 32 dense features $$y = c+\\alpha*mf + \\beta_1 * cf_1 + \\beta_2 * cf_2$$\n",
    "\n",
    "We claim that $y$ is confounded if $p$-value for either $\\beta_1$ or $\\beta_2$ is significant ($p<0.05$). From the results, we can see that only features extracted from the diagonal blocks are identified as confounded. Features from the off-diagonal blocks are either confounded by $cf_1$ or by $cf_2$. "
   ]
  },
  {
   "cell_type": "code",
   "execution_count": 5,
   "metadata": {},
   "outputs": [
    {
     "data": {
      "image/png": "[encoded data removed]",
      "text/plain": [
       "<matplotlib.figure.Figure at 0x1c2e315710>"
      ]
     },
     "metadata": {},
     "output_type": "display_data"
    }
   ],
   "source": [
    "x_feature = encoder.predict(x)\n",
    "\n",
    "from scipy import stats\n",
    "\n",
    "p = np.zeros((32,4))\n",
    "cr1 = np.zeros((32,))\n",
    "cr2 = np.zeros((32,))\n",
    "\n",
    "# GLM test for each feature\n",
    "for i in range(32):\n",
    "    X = np.zeros((N*2,4))\n",
    "    X[:,0] = labels\n",
    "    X[:,1] = cf1\n",
    "    X[:,2] = cf2   \n",
    "    X[:,3] = 1\n",
    "    glm_model = sm.GLM(x_feature[:,i],X)\n",
    "    glm_results = glm_model.fit()\n",
    "    p[i,:] = glm_results.pvalues\n",
    "\n",
    "mask = (p[:,1]>0.05) & (p[:,2]>0.05)\n",
    "mask1 = (p[:,1]<0.05)\n",
    "mask2 = (p[:,2]<0.05)\n",
    "\n",
    "plt.subplot(3,1,1)\n",
    "plt.imshow([mask])\n",
    "plt.title(\"Feature Mask (yellow = unconfounded)\")\n",
    "plt.subplot(3,1,2)\n",
    "plt.imshow([mask1])\n",
    "plt.title(\"Confounded features 1 (yellow = confounded by cf_1)\")\n",
    "plt.subplot(3,1,3)\n",
    "plt.imshow([mask2])\n",
    "plt.title(\"Confounded features 2 (yellow = confounded by cf_2)\");"
   ]
  },
  {
   "cell_type": "markdown",
   "metadata": {},
   "source": [
    "# Model Refactorization\n",
    "The influence from the subset of features with significant confounding effects can be removed from the heatmap by performing a partial back-propagation procedure, which uses the feature mask to block back-propagation in computing saliency scores. The procedure can be efficiently implemented with a simple model refactorization trick; that is, by adding a dummy layer $\\mathcal{L}$ between the encoder and the predictor that performs $\\mathcal{L}(\\boldsymbol{x}) = \\boldsymbol{x}\\otimes \\boldsymbol{b}_i \\oplus ((1-\\boldsymbol{b}_i) \\otimes \\boldsymbol{y}_i)$, where $\\otimes$ and $\\oplus$ denote element-wise operators, and $\\boldsymbol{y}_i$ is a constant feature vector for image $i$ pre-computed by the trained ConvNet. The dummy layer essentially fixes the value of confounded features while keeping un-confounded features dependent on the input image. As such, the partial back-propagation can by simply computed by running the full back-propagation on the refactorized model."
   ]
  },
  {
   "cell_type": "code",
   "execution_count": 6,
   "metadata": {},
   "outputs": [],
   "source": [
    "# define a dummy layer\n",
    "class BinaryMask(Layer):\n",
    "\n",
    "    def __init__(self, output_dim, mask, pre_feature, **kwargs):\n",
    "        self.output_dim = output_dim\n",
    "        self.mask = mask\n",
    "        self.pre_feature = pre_feature\n",
    "        \n",
    "        super(BinaryMask, self).__init__(**kwargs)\n",
    "\n",
    "    def build(self, input_shape):\n",
    "        self.mask_tensor = K.variable(self.mask)\n",
    "        self.pre_feature = K.variable(self.pre_feature)\n",
    "        \n",
    "        super(BinaryMask, self).build(input_shape)  # Be sure to call this at the end\n",
    "\n",
    "    def call(self, x):\n",
    "        return x * self.mask_tensor + self.pre_feature\n",
    "\n",
    "    def compute_output_shape(self, input_shape):\n",
    "        return (input_shape[0], self.output_dim)"
   ]
  },
  {
   "cell_type": "markdown",
   "metadata": {},
   "source": [
    "# Confounder-free visualization\n",
    "Rerunning saliency visualization on the refactorized models produces heap-maps for true effects."
   ]
  },
  {
   "cell_type": "code",
   "execution_count": 7,
   "metadata": {},
   "outputs": [
    {
     "data": {
      "image/png": "[encoded data removed]",
      "text/plain": [
       "<matplotlib.figure.Figure at 0x1c2e2f5278>"
      ]
     },
     "metadata": {},
     "output_type": "display_data"
    }
   ],
   "source": [
    "## Modify network by freezing certain entries\n",
    "x_feature = encoder.predict(x)\n",
    "\n",
    "K_subject = 10\n",
    "\n",
    "saliency = np.zeros((32,32))\n",
    "for subidx in itertools.chain(range(K_subject),range(N,N+K_subject)):\n",
    "    pre_feature = x_feature[subidx] * (1-mask)\n",
    "\n",
    "    feature_dense_enc_masked = BinaryMask(32,mask,pre_feature)(feature_dense_enc)\n",
    "    prediction_score_workflow_updated = classifier(feature_dense_enc_masked)\n",
    "    label_workflow_updated = Activation('linear', name='r_mean_updated')(prediction_score_workflow_updated)\n",
    "    workflow_masked = Model(input_feature_enc, label_workflow_updated)\n",
    "    \n",
    "    layer_idx = utils.find_layer_idx(workflow_masked, 'r_mean_updated')\n",
    "    \n",
    "    grads = visualize_saliency(workflow_masked, layer_idx, filter_indices=0, seed_input=x[subidx])\n",
    "    saliency = saliency + convert_jet_to_grey(grads/255.0,1)\n",
    "\n",
    "plt.imshow(saliency/K_subject/2)\n",
    "plt.title(\"Confounder-free heatmap\");"
   ]
  },
  {
   "cell_type": "code",
   "execution_count": null,
   "metadata": {},
   "outputs": [],
   "source": []
  }
 ],
 "metadata": {
  "kernelspec": {
   "display_name": "Python 3",
   "language": "python",
   "name": "python3"
  },
  "language_info": {
   "codemirror_mode": {
    "name": "ipython",
    "version": 3
   },
   "file_extension": ".py",
   "mimetype": "text/x-python",
   "name": "python",
   "nbconvert_exporter": "python",
   "pygments_lexer": "ipython3",
   "version": "3.6.4"
  }
 },
 "nbformat": 4,
 "nbformat_minor": 2
}
